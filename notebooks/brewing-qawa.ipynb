{
 "cells": [
  {
   "cell_type": "code",
   "execution_count": 1,
   "id": "5e1b9f98-51ec-4662-a453-5714a8931a60",
   "metadata": {},
   "outputs": [],
   "source": [
    "import awkward as ak\n",
    "import numpy as np\n",
    "import uproot\n",
    "import hist\n",
    "import yaml\n",
    "\n",
    "from coffea import processor\n",
    "from coffea import nanoevents\n",
    "\n",
    "\n",
    "from qawa.process.zz2l2nu_vbs import zzinc_processor"
   ]
  },
  {
   "cell_type": "code",
   "execution_count": 2,
   "id": "a29aa7ca-cdc8-4df9-b890-29a38e09c7c5",
   "metadata": {},
   "outputs": [
    {
     "data": {
      "text/plain": [
       "<qawa.process.zz2l2nu_vbs.zzinc_processor at 0x7f41f07c1b80>"
      ]
     },
     "execution_count": 2,
     "metadata": {},
     "output_type": "execute_result"
    }
   ],
   "source": [
    "zzinc_processor(era='2018')"
   ]
  },
  {
   "cell_type": "code",
   "execution_count": 5,
   "id": "0383a2de-8d77-4bed-9bfb-d73542840272",
   "metadata": {},
   "outputs": [
    {
     "data": {
      "text/plain": [
       "coffea.nanoevents.schemas.treemaker.TreeMakerSchema"
      ]
     },
     "execution_count": 5,
     "metadata": {},
     "output_type": "execute_result"
    }
   ],
   "source": [
    "processor.TreeMakerSchema"
   ]
  },
  {
   "cell_type": "code",
   "execution_count": 3,
   "id": "852bf879-e247-4e4a-9fc6-5d0e454f4cbc",
   "metadata": {},
   "outputs": [],
   "source": [
    "samples = {}\n",
    "with open('./data/datasetUL2018-testing.yaml') as s_file:\n",
    "    samples = yaml.full_load(s_file)\n",
    "    \n",
    "for key in samples.keys():\n",
    "    samples[key]['files'] = [\n",
    "        path.replace(\n",
    "            \"xrootd-cms.infn.it\", \"xcache\"\n",
    "        ).replace(\n",
    "            \"eoscms.cern.ch\", \"xcache\"\n",
    "        ).replace(\n",
    "            \"cms-xrd-global.cern.ch\", \"xcache\"\n",
    "        )\n",
    "        for path in samples[key]['files']\n",
    "    ]"
   ]
  },
  {
   "cell_type": "code",
   "execution_count": 4,
   "id": "94a04031-65b0-47e5-984d-08f14ba7157c",
   "metadata": {},
   "outputs": [
    {
     "data": {
      "application/vnd.jupyter.widget-view+json": {
       "model_id": "be4fa4540e8f4cd8b0091b3cb3ef1e95",
       "version_major": 2,
       "version_minor": 0
      },
      "text/plain": [
       "Output()"
      ]
     },
     "metadata": {},
     "output_type": "display_data"
    },
    {
     "data": {
      "text/html": [
       "<pre style=\"white-space:pre;overflow-x:auto;line-height:normal;font-family:Menlo,'DejaVu Sans Mono',consolas,'Courier New',monospace\"></pre>\n"
      ],
      "text/plain": []
     },
     "metadata": {},
     "output_type": "display_data"
    },
    {
     "data": {
      "text/html": [
       "<pre style=\"white-space:pre;overflow-x:auto;line-height:normal;font-family:Menlo,'DejaVu Sans Mono',consolas,'Courier New',monospace\">\n",
       "</pre>\n"
      ],
      "text/plain": [
       "\n"
      ]
     },
     "metadata": {},
     "output_type": "display_data"
    },
    {
     "data": {
      "application/vnd.jupyter.widget-view+json": {
       "model_id": "ec722980707647068a6d7b571a41e356",
       "version_major": 2,
       "version_minor": 0
      },
      "text/plain": [
       "Output()"
      ]
     },
     "metadata": {},
     "output_type": "display_data"
    },
    {
     "name": "stderr",
     "output_type": "stream",
     "text": [
      "/opt/conda/lib/python3.8/site-packages/awkward/_connect/_numpy.py:195: RuntimeWarning: invalid value encountered in sqrt\n",
      "  result = getattr(ufunc, method)(\n",
      "/opt/conda/lib/python3.8/site-packages/awkward/_connect/_numpy.py:195: RuntimeWarning: invalid value encountered in sqrt\n",
      "  result = getattr(ufunc, method)(\n",
      "/opt/conda/lib/python3.8/site-packages/awkward/_connect/_numpy.py:195: RuntimeWarning: divide by zero encountered in true_divide\n",
      "  result = getattr(ufunc, method)(\n",
      "/opt/conda/lib/python3.8/site-packages/awkward/_connect/_numpy.py:195: RuntimeWarning: invalid value encountered in sqrt\n",
      "  result = getattr(ufunc, method)(\n",
      "/opt/conda/lib/python3.8/site-packages/awkward/_connect/_numpy.py:195: RuntimeWarning: invalid value encountered in sqrt\n",
      "  result = getattr(ufunc, method)(\n",
      "/opt/conda/lib/python3.8/site-packages/awkward/_connect/_numpy.py:195: RuntimeWarning: divide by zero encountered in true_divide\n",
      "  result = getattr(ufunc, method)(\n",
      "/opt/conda/lib/python3.8/site-packages/awkward/_connect/_numpy.py:195: RuntimeWarning: invalid value encountered in sqrt\n",
      "  result = getattr(ufunc, method)(\n",
      "/opt/conda/lib/python3.8/site-packages/awkward/_connect/_numpy.py:195: RuntimeWarning: divide by zero encountered in true_divide\n",
      "  result = getattr(ufunc, method)(\n",
      "/opt/conda/lib/python3.8/site-packages/awkward/_connect/_numpy.py:195: RuntimeWarning: invalid value encountered in sqrt\n",
      "  result = getattr(ufunc, method)(\n",
      "/opt/conda/lib/python3.8/site-packages/awkward/_connect/_numpy.py:195: RuntimeWarning: invalid value encountered in sqrt\n",
      "  result = getattr(ufunc, method)(\n",
      "/opt/conda/lib/python3.8/site-packages/awkward/_connect/_numpy.py:195: RuntimeWarning: invalid value encountered in sqrt\n",
      "  result = getattr(ufunc, method)(\n",
      "/opt/conda/lib/python3.8/site-packages/awkward/_connect/_numpy.py:195: RuntimeWarning: divide by zero encountered in true_divide\n",
      "  result = getattr(ufunc, method)(\n",
      "/opt/conda/lib/python3.8/site-packages/awkward/_connect/_numpy.py:195: RuntimeWarning: invalid value encountered in sqrt\n",
      "  result = getattr(ufunc, method)(\n",
      "/opt/conda/lib/python3.8/site-packages/awkward/_connect/_numpy.py:195: RuntimeWarning: invalid value encountered in sqrt\n",
      "  result = getattr(ufunc, method)(\n",
      "/opt/conda/lib/python3.8/site-packages/awkward/_connect/_numpy.py:195: RuntimeWarning: invalid value encountered in sqrt\n",
      "  result = getattr(ufunc, method)(\n",
      "/opt/conda/lib/python3.8/site-packages/awkward/_connect/_numpy.py:195: RuntimeWarning: invalid value encountered in sqrt\n",
      "  result = getattr(ufunc, method)(\n",
      "/opt/conda/lib/python3.8/site-packages/awkward/_connect/_numpy.py:195: RuntimeWarning: invalid value encountered in sqrt\n",
      "  result = getattr(ufunc, method)(\n",
      "/opt/conda/lib/python3.8/site-packages/awkward/_connect/_numpy.py:195: RuntimeWarning: divide by zero encountered in true_divide\n",
      "  result = getattr(ufunc, method)(\n",
      "/opt/conda/lib/python3.8/site-packages/awkward/_connect/_numpy.py:195: RuntimeWarning: invalid value encountered in sqrt\n",
      "  result = getattr(ufunc, method)(\n",
      "/opt/conda/lib/python3.8/site-packages/awkward/_connect/_numpy.py:195: RuntimeWarning: invalid value encountered in sqrt\n",
      "  result = getattr(ufunc, method)(\n",
      "/opt/conda/lib/python3.8/site-packages/awkward/_connect/_numpy.py:195: RuntimeWarning: invalid value encountered in sqrt\n",
      "  result = getattr(ufunc, method)(\n",
      "/opt/conda/lib/python3.8/site-packages/awkward/_connect/_numpy.py:195: RuntimeWarning: invalid value encountered in sqrt\n",
      "  result = getattr(ufunc, method)(\n",
      "/opt/conda/lib/python3.8/site-packages/awkward/_connect/_numpy.py:195: RuntimeWarning: invalid value encountered in sqrt\n",
      "  result = getattr(ufunc, method)(\n",
      "/opt/conda/lib/python3.8/site-packages/awkward/_connect/_numpy.py:195: RuntimeWarning: invalid value encountered in sqrt\n",
      "  result = getattr(ufunc, method)(\n",
      "/opt/conda/lib/python3.8/site-packages/awkward/_connect/_numpy.py:195: RuntimeWarning: invalid value encountered in sqrt\n",
      "  result = getattr(ufunc, method)(\n",
      "/opt/conda/lib/python3.8/site-packages/awkward/_connect/_numpy.py:195: RuntimeWarning: invalid value encountered in sqrt\n",
      "  result = getattr(ufunc, method)(\n",
      "/opt/conda/lib/python3.8/site-packages/coffea/lookup_tools/doublecrystalball.py:173: RuntimeWarning: overflow encountered in power\n",
      "  - ((mL - 1) * (mL / betaL) ** (-mL) / eb2L * p / N) ** (1 / (1 - mL))\n",
      "/opt/conda/lib/python3.8/site-packages/awkward/_connect/_numpy.py:195: RuntimeWarning: invalid value encountered in sqrt\n",
      "  result = getattr(ufunc, method)(\n",
      "/opt/conda/lib/python3.8/site-packages/awkward/_connect/_numpy.py:195: RuntimeWarning: divide by zero encountered in true_divide\n",
      "  result = getattr(ufunc, method)(\n",
      "/opt/conda/lib/python3.8/site-packages/coffea/lookup_tools/doublecrystalball.py:160: RuntimeWarning: overflow encountered in power\n",
      "  - ((mH - 1) * (mH / betaH) ** (-mH) / eb2H * (1 - p) / N)\n",
      "/opt/conda/lib/python3.8/site-packages/awkward/_connect/_numpy.py:195: RuntimeWarning: invalid value encountered in sqrt\n",
      "  result = getattr(ufunc, method)(\n",
      "/opt/conda/lib/python3.8/site-packages/awkward/_connect/_numpy.py:195: RuntimeWarning: divide by zero encountered in true_divide\n",
      "  result = getattr(ufunc, method)(\n",
      "/opt/conda/lib/python3.8/site-packages/awkward/_connect/_numpy.py:195: RuntimeWarning: invalid value encountered in sqrt\n",
      "  result = getattr(ufunc, method)(\n",
      "/opt/conda/lib/python3.8/site-packages/awkward/_connect/_numpy.py:195: RuntimeWarning: divide by zero encountered in true_divide\n",
      "  result = getattr(ufunc, method)(\n",
      "/opt/conda/lib/python3.8/site-packages/coffea/lookup_tools/doublecrystalball.py:173: RuntimeWarning: overflow encountered in power\n",
      "  - ((mL - 1) * (mL / betaL) ** (-mL) / eb2L * p / N) ** (1 / (1 - mL))\n",
      "/opt/conda/lib/python3.8/site-packages/awkward/_connect/_numpy.py:195: RuntimeWarning: invalid value encountered in sqrt\n",
      "  result = getattr(ufunc, method)(\n",
      "/opt/conda/lib/python3.8/site-packages/awkward/_connect/_numpy.py:195: RuntimeWarning: divide by zero encountered in true_divide\n",
      "  result = getattr(ufunc, method)(\n",
      "/opt/conda/lib/python3.8/site-packages/coffea/lookup_tools/doublecrystalball.py:173: RuntimeWarning: overflow encountered in power\n",
      "  - ((mL - 1) * (mL / betaL) ** (-mL) / eb2L * p / N) ** (1 / (1 - mL))\n",
      "/opt/conda/lib/python3.8/site-packages/awkward/_connect/_numpy.py:195: RuntimeWarning: invalid value encountered in sqrt\n",
      "  result = getattr(ufunc, method)(\n",
      "/opt/conda/lib/python3.8/site-packages/awkward/_connect/_numpy.py:195: RuntimeWarning: divide by zero encountered in true_divide\n",
      "  result = getattr(ufunc, method)(\n",
      "/opt/conda/lib/python3.8/site-packages/coffea/lookup_tools/doublecrystalball.py:173: RuntimeWarning: overflow encountered in power\n",
      "  - ((mL - 1) * (mL / betaL) ** (-mL) / eb2L * p / N) ** (1 / (1 - mL))\n",
      "/opt/conda/lib/python3.8/site-packages/coffea/lookup_tools/doublecrystalball.py:160: RuntimeWarning: overflow encountered in power\n",
      "  - ((mH - 1) * (mH / betaH) ** (-mH) / eb2H * (1 - p) / N)\n",
      "/opt/conda/lib/python3.8/site-packages/awkward/_connect/_numpy.py:195: RuntimeWarning: invalid value encountered in sqrt\n",
      "  result = getattr(ufunc, method)(\n",
      "/opt/conda/lib/python3.8/site-packages/awkward/_connect/_numpy.py:195: RuntimeWarning: divide by zero encountered in true_divide\n",
      "  result = getattr(ufunc, method)(\n",
      "/opt/conda/lib/python3.8/site-packages/coffea/lookup_tools/doublecrystalball.py:173: RuntimeWarning: overflow encountered in power\n",
      "  - ((mL - 1) * (mL / betaL) ** (-mL) / eb2L * p / N) ** (1 / (1 - mL))\n",
      "/opt/conda/lib/python3.8/site-packages/coffea/lookup_tools/doublecrystalball.py:160: RuntimeWarning: overflow encountered in power\n",
      "  - ((mH - 1) * (mH / betaH) ** (-mH) / eb2H * (1 - p) / N)\n",
      "/opt/conda/lib/python3.8/site-packages/awkward/_connect/_numpy.py:195: RuntimeWarning: invalid value encountered in sqrt\n",
      "  result = getattr(ufunc, method)(\n",
      "/opt/conda/lib/python3.8/site-packages/awkward/_connect/_numpy.py:195: RuntimeWarning: divide by zero encountered in true_divide\n",
      "  result = getattr(ufunc, method)(\n"
     ]
    },
    {
     "data": {
      "text/html": [
       "<pre style=\"white-space:pre;overflow-x:auto;line-height:normal;font-family:Menlo,'DejaVu Sans Mono',consolas,'Courier New',monospace\"></pre>\n"
      ],
      "text/plain": []
     },
     "metadata": {},
     "output_type": "display_data"
    },
    {
     "data": {
      "text/html": [
       "<pre style=\"white-space:pre;overflow-x:auto;line-height:normal;font-family:Menlo,'DejaVu Sans Mono',consolas,'Courier New',monospace\">\n",
       "</pre>\n"
      ],
      "text/plain": [
       "\n"
      ]
     },
     "metadata": {},
     "output_type": "display_data"
    },
    {
     "data": {
      "text/plain": [
       "{'EGamma_Run2018C-UL2018_MiniAODv2_NanoAODv9-v1': {'dilep_mt': Hist(\n",
       "    StrCategory(['catSR', 'catSR0', 'catSR1', 'catSR2', 'catDY', 'cat3L', 'catEM', 'catTT', 'catNR', 'catSR_VBS', 'catDY_VBS', 'catEM_VBS', 'cat3L_VBS', 'catTT_VBS', 'catNR_VBS'], growth=True, name='channel', label='channel'),\n",
       "    StrCategory(['nominal'], growth=True, name='systematic', label='systematic'),\n",
       "    Regular(50, 0, 1000, name='dilep_mt', label='$M_{T}$ (GeV)'),\n",
       "    storage=Weight()) # Sum: WeightedSum(value=12199, variance=12199) (WeightedSum(value=19879, variance=19879) with flow),\n",
       "  'met': Hist(\n",
       "    StrCategory(['catSR', 'catSR0', 'catSR1', 'catSR2', 'catDY', 'cat3L', 'catEM', 'catTT', 'catNR', 'catSR_VBS', 'catDY_VBS', 'catEM_VBS', 'cat3L_VBS', 'catTT_VBS', 'catNR_VBS'], growth=True, name='channel', label='channel'),\n",
       "    StrCategory(['nominal'], growth=True, name='systematic', label='systematic'),\n",
       "    Regular(50, 0, 1000, name='met', label='$p_{T}^{miss}$ (GeV)'),\n",
       "    storage=Weight()) # Sum: WeightedSum(value=281674, variance=281674),\n",
       "  'njets': Hist(\n",
       "    StrCategory(['catSR', 'catSR0', 'catSR1', 'catSR2', 'catDY', 'cat3L', 'catEM', 'catTT', 'catNR', 'catSR_VBS', 'catDY_VBS', 'catEM_VBS', 'cat3L_VBS', 'catTT_VBS', 'catNR_VBS'], growth=True, name='channel', label='channel'),\n",
       "    StrCategory(['nominal'], growth=True, name='systematic', label='systematic'),\n",
       "    Regular(5, 0, 5, name='njets', label='$N_{jet}$ ($p_{T}>30$ GeV)'),\n",
       "    storage=Weight()) # Sum: WeightedSum(value=19933, variance=19933) (WeightedSum(value=20003, variance=20003) with flow),\n",
       "  'bjets': Hist(\n",
       "    StrCategory(['catSR', 'catSR0', 'catSR1', 'catSR2', 'catDY', 'cat3L', 'catEM', 'catTT', 'catNR', 'catSR_VBS', 'catDY_VBS', 'catEM_VBS', 'cat3L_VBS', 'catTT_VBS', 'catNR_VBS'], growth=True, name='channel', label='channel'),\n",
       "    StrCategory(['nominal'], growth=True, name='systematic', label='systematic'),\n",
       "    Regular(5, 0, 5, name='bjets', label='$N_{b-jet}$ ($p_{T}>30$ GeV)'),\n",
       "    storage=Weight()) # Sum: WeightedSum(value=20532, variance=20532),\n",
       "  'dphi_met_ll': Hist(\n",
       "    StrCategory(['catSR', 'catSR0', 'catSR1', 'catSR2', 'catDY', 'cat3L', 'catEM', 'catTT', 'catNR', 'catSR_VBS', 'catDY_VBS', 'catEM_VBS', 'cat3L_VBS', 'catTT_VBS', 'catNR_VBS'], growth=True, name='channel', label='channel'),\n",
       "    StrCategory(['nominal'], growth=True, name='systematic', label='systematic'),\n",
       "    Regular(50, 0, 1, name='dphi_met_ll', label='$\\\\Delta \\\\phi(\\\\ell\\\\ell,\\x0bec p_{T}^{miss})/\\\\pi$'),\n",
       "    storage=Weight()) # Sum: WeightedSum(value=11167, variance=11167) (WeightedSum(value=22730, variance=22730) with flow),\n",
       "  'gnn_score': Hist(\n",
       "    StrCategory(['catSR', 'catSR0', 'catSR1', 'catSR2', 'catDY', 'cat3L', 'catEM', 'catTT', 'catNR', 'catSR_VBS', 'catDY_VBS', 'catEM_VBS', 'cat3L_VBS', 'catTT_VBS', 'catNR_VBS'], growth=True, name='channel', label='channel'),\n",
       "    StrCategory(['nominal'], growth=True, name='systematic', label='systematic'),\n",
       "    Regular(50, 0, 1, name='gnn_score', label='gnn_score'),\n",
       "    storage=Weight()) # Sum: WeightedSum(value=18807, variance=18807) (WeightedSum(value=19879, variance=19879) with flow)},\n",
       " 'GluGluToContinToZZTo4mu_TuneCP5_13TeV-mcfm701-pythia8': {'dilep_mt': Hist(\n",
       "    StrCategory(['catSR', 'catSR0', 'catSR1', 'catSR2', 'catDY', 'cat3L', 'catEM', 'catTT', 'catNR', 'catSR_VBS', 'catDY_VBS', 'catEM_VBS', 'cat3L_VBS', 'catTT_VBS', 'catNR_VBS'], growth=True, name='channel', label='channel'),\n",
       "    StrCategory(['nominal', 'btag_sf_light_correlatedUp', 'btag_sf_light_2018Down', 'aS_weightUp', 'btag_sf_bc_correlatedUp', 'UEPS_FSRDown', 'UEPS_ISRDown', 'UEPS_FSRUp', 'btag_sf_statUp', 'btag_sf_light_2018Up', 'PDFaS_weightUp', 'aS_weightDown', 'UEPS_ISRUp', 'btag_sf_bc_2018Down', 'btag_sf_statDown', 'pileup_weightDown', 'btag_sf_bc_correlatedDown', 'btag_sf_bc_2018Up', 'PDF_weightUp', 'pileup_weightUp', 'PDFaS_weightDown', 'btag_sf_light_correlatedDown', 'PDF_weightDown', 'JESUp', 'JESDown', 'JERUp', 'JERDown', 'UESUp', 'UESDown'], growth=True, name='systematic', label='systematic'),\n",
       "    Regular(50, 0, 1000, name='dilep_mt', label='$M_{T}$ (GeV)'),\n",
       "    storage=Weight()) # Sum: WeightedSum(value=66226.2, variance=67350.9) (WeightedSum(value=117959, variance=120792) with flow),\n",
       "  'met': Hist(\n",
       "    StrCategory(['catSR', 'catSR0', 'catSR1', 'catSR2', 'catDY', 'cat3L', 'catEM', 'catTT', 'catNR', 'catSR_VBS', 'catDY_VBS', 'catEM_VBS', 'cat3L_VBS', 'catTT_VBS', 'catNR_VBS'], growth=True, name='channel', label='channel'),\n",
       "    StrCategory(['nominal', 'btag_sf_light_correlatedUp', 'btag_sf_light_2018Down', 'aS_weightUp', 'btag_sf_bc_correlatedUp', 'UEPS_FSRDown', 'UEPS_ISRDown', 'UEPS_FSRUp', 'btag_sf_statUp', 'btag_sf_light_2018Up', 'PDFaS_weightUp', 'aS_weightDown', 'UEPS_ISRUp', 'btag_sf_bc_2018Down', 'btag_sf_statDown', 'pileup_weightDown', 'btag_sf_bc_correlatedDown', 'btag_sf_bc_2018Up', 'PDF_weightUp', 'pileup_weightUp', 'PDFaS_weightDown', 'btag_sf_light_correlatedDown', 'PDF_weightDown', 'JESUp', 'JESDown', 'JERUp', 'JERDown', 'UESUp', 'UESDown'], growth=True, name='systematic', label='systematic'),\n",
       "    Regular(50, 0, 1000, name='met', label='$p_{T}^{miss}$ (GeV)'),\n",
       "    storage=Weight()) # Sum: WeightedSum(value=433170, variance=447137),\n",
       "  'njets': Hist(\n",
       "    StrCategory(['catSR', 'catSR0', 'catSR1', 'catSR2', 'catDY', 'cat3L', 'catEM', 'catTT', 'catNR', 'catSR_VBS', 'catDY_VBS', 'catEM_VBS', 'cat3L_VBS', 'catTT_VBS', 'catNR_VBS'], growth=True, name='channel', label='channel'),\n",
       "    StrCategory(['nominal', 'btag_sf_light_correlatedUp', 'btag_sf_light_2018Down', 'aS_weightUp', 'btag_sf_bc_correlatedUp', 'UEPS_FSRDown', 'UEPS_ISRDown', 'UEPS_FSRUp', 'btag_sf_statUp', 'btag_sf_light_2018Up', 'PDFaS_weightUp', 'aS_weightDown', 'UEPS_ISRUp', 'btag_sf_bc_2018Down', 'btag_sf_statDown', 'pileup_weightDown', 'btag_sf_bc_correlatedDown', 'btag_sf_bc_2018Up', 'PDF_weightUp', 'pileup_weightUp', 'PDFaS_weightDown', 'btag_sf_light_correlatedDown', 'PDF_weightDown', 'JESUp', 'JESDown', 'JERUp', 'JERDown', 'UESUp', 'UESDown'], growth=True, name='systematic', label='systematic'),\n",
       "    Regular(5, 0, 5, name='njets', label='$N_{jet}$ ($p_{T}>30$ GeV)'),\n",
       "    storage=Weight()) # Sum: WeightedSum(value=118756, variance=121569) (WeightedSum(value=119095, variance=121925) with flow),\n",
       "  'bjets': Hist(\n",
       "    StrCategory(['catSR', 'catSR0', 'catSR1', 'catSR2', 'catDY', 'cat3L', 'catEM', 'catTT', 'catNR', 'catSR_VBS', 'catDY_VBS', 'catEM_VBS', 'cat3L_VBS', 'catTT_VBS', 'catNR_VBS'], growth=True, name='channel', label='channel'),\n",
       "    StrCategory(['nominal', 'btag_sf_light_correlatedUp', 'btag_sf_light_2018Down', 'aS_weightUp', 'btag_sf_bc_correlatedUp', 'UEPS_FSRDown', 'UEPS_ISRDown', 'UEPS_FSRUp', 'btag_sf_statUp', 'btag_sf_light_2018Up', 'PDFaS_weightUp', 'aS_weightDown', 'UEPS_ISRUp', 'btag_sf_bc_2018Down', 'btag_sf_statDown', 'pileup_weightDown', 'btag_sf_bc_correlatedDown', 'btag_sf_bc_2018Up', 'PDF_weightUp', 'pileup_weightUp', 'PDFaS_weightDown', 'btag_sf_light_correlatedDown', 'PDF_weightDown', 'JESUp', 'JESDown', 'JERUp', 'JERDown', 'UESUp', 'UESDown'], growth=True, name='systematic', label='systematic'),\n",
       "    Regular(5, 0, 5, name='bjets', label='$N_{b-jet}$ ($p_{T}>30$ GeV)'),\n",
       "    storage=Weight()) # Sum: WeightedSum(value=121680, variance=126264),\n",
       "  'dphi_met_ll': Hist(\n",
       "    StrCategory(['catSR', 'catSR0', 'catSR1', 'catSR2', 'catDY', 'cat3L', 'catEM', 'catTT', 'catNR', 'catSR_VBS', 'catDY_VBS', 'catEM_VBS', 'cat3L_VBS', 'catTT_VBS', 'catNR_VBS'], growth=True, name='channel', label='channel'),\n",
       "    StrCategory(['nominal', 'btag_sf_light_correlatedUp', 'btag_sf_light_2018Down', 'aS_weightUp', 'btag_sf_bc_correlatedUp', 'UEPS_FSRDown', 'UEPS_ISRDown', 'UEPS_FSRUp', 'btag_sf_statUp', 'btag_sf_light_2018Up', 'PDFaS_weightUp', 'aS_weightDown', 'UEPS_ISRUp', 'btag_sf_bc_2018Down', 'btag_sf_statDown', 'pileup_weightDown', 'btag_sf_bc_correlatedDown', 'btag_sf_bc_2018Up', 'PDF_weightUp', 'pileup_weightUp', 'PDFaS_weightDown', 'btag_sf_light_correlatedDown', 'PDF_weightDown', 'JESUp', 'JESDown', 'JERUp', 'JERDown', 'UESUp', 'UESDown'], growth=True, name='systematic', label='systematic'),\n",
       "    Regular(50, 0, 1, name='dphi_met_ll', label='$\\\\Delta \\\\phi(\\\\ell\\\\ell,\\x0bec p_{T}^{miss})/\\\\pi$'),\n",
       "    storage=Weight()) # Sum: WeightedSum(value=62420.4, variance=63628.5) (WeightedSum(value=123929, variance=126683) with flow),\n",
       "  'gnn_score': Hist(\n",
       "    StrCategory(['catSR', 'catSR0', 'catSR1', 'catSR2', 'catDY', 'cat3L', 'catEM', 'catTT', 'catNR', 'catSR_VBS', 'catDY_VBS', 'catEM_VBS', 'cat3L_VBS', 'catTT_VBS', 'catNR_VBS'], growth=True, name='channel', label='channel'),\n",
       "    StrCategory(['nominal', 'btag_sf_light_correlatedUp', 'btag_sf_light_2018Down', 'aS_weightUp', 'btag_sf_bc_correlatedUp', 'UEPS_FSRDown', 'UEPS_ISRDown', 'UEPS_FSRUp', 'btag_sf_statUp', 'btag_sf_light_2018Up', 'PDFaS_weightUp', 'aS_weightDown', 'UEPS_ISRUp', 'btag_sf_bc_2018Down', 'btag_sf_statDown', 'pileup_weightDown', 'btag_sf_bc_correlatedDown', 'btag_sf_bc_2018Up', 'PDF_weightUp', 'pileup_weightUp', 'PDFaS_weightDown', 'btag_sf_light_correlatedDown', 'PDF_weightDown', 'JESUp', 'JESDown', 'JERUp', 'JERDown', 'UESUp', 'UESDown'], growth=True, name='systematic', label='systematic'),\n",
       "    Regular(50, 0, 1, name='gnn_score', label='gnn_score'),\n",
       "    storage=Weight()) # Sum: WeightedSum(value=117929, variance=120760) (WeightedSum(value=117959, variance=120792) with flow)}}"
      ]
     },
     "execution_count": 4,
     "metadata": {},
     "output_type": "execute_result"
    }
   ],
   "source": [
    "out_btag = processor.run_uproot_job(\n",
    "    samples,\n",
    "    processor_instance=zzinc_processor(),\n",
    "    treename='Events',\n",
    "    executor=processor.futures_executor,\n",
    "    executor_args={\n",
    "        \"schema\": nanoevents.NanoAODSchema,\n",
    "        \"workers\": 1,\n",
    "    }\n",
    ")\n",
    "out_btag"
   ]
  },
  {
   "cell_type": "code",
   "execution_count": null,
   "id": "641ce0ee-5d61-46e8-a03b-cbc26198be55",
   "metadata": {},
   "outputs": [],
   "source": [
    "out_btag"
   ]
  },
  {
   "cell_type": "code",
   "execution_count": null,
   "id": "28e201e6-71cc-4ebd-ae7d-40caf0c665b8",
   "metadata": {},
   "outputs": [],
   "source": []
  }
 ],
 "metadata": {
  "kernelspec": {
   "display_name": "Python 3 (ipykernel)",
   "language": "python",
   "name": "python3"
  },
  "language_info": {
   "codemirror_mode": {
    "name": "ipython",
    "version": 3
   },
   "file_extension": ".py",
   "mimetype": "text/x-python",
   "name": "python",
   "nbconvert_exporter": "python",
   "pygments_lexer": "ipython3",
   "version": "3.8.13"
  }
 },
 "nbformat": 4,
 "nbformat_minor": 5
}
