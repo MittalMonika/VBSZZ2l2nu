{
 "cells": [
  {
   "cell_type": "code",
   "execution_count": null,
   "id": "da3b5752-2464-46ca-9ff3-b152615728b1",
   "metadata": {},
   "outputs": [],
   "source": [
    "from dask.distributed import Client\n",
    "\n",
    "client = Client(\"tls://yacine-2ehaddad-40cern-2ech.dask.cmsaf-prod.flatiron.hollandhpc.org:8786\")\n",
    "client"
   ]
  },
  {
   "cell_type": "code",
   "execution_count": 1,
   "id": "6388a38c-ed83-49a9-a32f-f1fe580ba4a5",
   "metadata": {},
   "outputs": [],
   "source": [
    "import awkward as ak\n",
    "import numpy as np\n",
    "import uproot\n",
    "import hist\n",
    "import yaml\n",
    "import copy\n",
    "\n",
    "from coffea import processor\n",
    "from coffea import nanoevents\n",
    "from coffea.nanoevents.methods import candidate\n",
    "\n",
    "from coffea.analysis_tools import Weights, PackedSelection\n",
    "from coffea.lumi_tools import LumiMask\n",
    "\n",
    "\n",
    "from qawa.btag import BTVCorrector, btag_id\n",
    "from qawa.jme import JMEUncertainty, update_collection\n",
    "from qawa.common import pileup_weights, ewk_corrector, met_phi_xy_correction, theory_ps_weight, theory_pdf_weight, trigger_rules"
   ]
  },
  {
   "cell_type": "code",
   "execution_count": 2,
   "id": "65fe73f7-2b4e-425c-8815-058d6cb691c9",
   "metadata": {},
   "outputs": [],
   "source": [
    "def build_leptons(muons, electrons):\n",
    "    # select tight/loose muons\n",
    "    tight_muons_mask = (\n",
    "        (muons.pt             >  20. ) &\n",
    "        (np.abs(muons.eta)    <  2.4 ) &\n",
    "        (np.abs(muons.dxy)    <  0.02) &\n",
    "        (np.abs(muons.dz )    <  0.1 ) &\n",
    "        (muons.pfRelIso04_all <= 0.15) & \n",
    "        muons.tightId\n",
    "    )\n",
    "    tight_muons = muons[tight_muons_mask]\n",
    "    loose_muons = muons[\n",
    "        ~tight_muons_mask &\n",
    "        (muons.pt            >  7.  ) &\n",
    "        (np.abs(muons.eta)   <  2.4 ) &\n",
    "        (muons.pfRelIso04_all<= 0.15) &\n",
    "        muons.looseId   \n",
    "    ]\n",
    "    # select tight/loose electron\n",
    "    tight_electrons_mask = (\n",
    "        (electrons.pt           > 20.) &\n",
    "        (np.abs(electrons.eta)  < 2.5) &\n",
    "        electrons.mvaFall17V2Iso_WP90\n",
    "    )\n",
    "    tight_electrons = electrons[tight_electrons_mask]\n",
    "    loose_electrons = electrons[\n",
    "        ~tight_electrons_mask &\n",
    "        (electrons.pt           > 7. ) &\n",
    "        (np.abs(electrons.eta)  < 2.5) &\n",
    "        electrons.mvaFall17V2Iso_WPL\n",
    "    ]\n",
    "    # contruct a lepton object\n",
    "    tight_leptons = ak.with_name(ak.concatenate([tight_muons, tight_electrons], axis=1), 'PtEtaPhiMCandidate')\n",
    "    loose_leptons = ak.with_name(ak.concatenate([loose_muons, loose_electrons], axis=1), 'PtEtaPhiMCandidate')\n",
    "\n",
    "    return tight_leptons, loose_leptons\n",
    "\n",
    "def build_htaus(tau, lepton):\n",
    "    base = (\n",
    "        (tau.pt         > 20. ) & \n",
    "        (np.abs(tau.eta)< 2.3 ) & \n",
    "        (tau.decayMode != 5   ) & \n",
    "        (tau.decayMode != 6   )\n",
    "    )\n",
    "    overlap_leptons = ak.any(\n",
    "        tau.metric_table(lepton) <= 0.4,\n",
    "        axis=2\n",
    "    )\n",
    "    return tau[base & ~overlap_leptons]\n",
    "\n",
    "def build_photons(photons):\n",
    "    base = (\n",
    "        (photon.pt          > 20. ) & \n",
    "        (np.abs(photon.eta) < 2.5 )\n",
    "    )\n",
    "    # MVA ID\n",
    "    tight_photons = photons[base & photon.mvaID_WP90]\n",
    "    loose_photons = photons[base & photon.mvaID_WP80 & ~photon.mvaID_WP90]\n",
    "    \n",
    "    # cut based ID\n",
    "    return tight_photons, loose_photons"
   ]
  },
  {
   "cell_type": "code",
   "execution_count": 3,
   "id": "e74a4507-edaf-4e94-a042-a4a883a35e1c",
   "metadata": {},
   "outputs": [],
   "source": [
    "class zzinc_processor(processor.ProcessorABC):\n",
    "    def __init__(self,\n",
    "            model_2j: str = 'nn2j-mandalorian.onnx', \n",
    "            model_3j: str = 'nn3j-mandalorian.onnx', \n",
    "            era: str = '2018'\n",
    "        ):\n",
    "        self._era = era\n",
    "        \n",
    "        jec_tag = ''\n",
    "        jer_tag = ''\n",
    "        if self._era == '2016':\n",
    "            jec_tag = 'Summer19UL18_V5_MC'\n",
    "            jer_tag = 'Summer19UL18_JRV2_MC'\n",
    "        elif self._era == '2017':\n",
    "            jec_tag = 'Summer19UL18_V5_MC'\n",
    "            jer_tag = 'Summer19UL18_JRV2_MC'\n",
    "        elif self._era == '2018':\n",
    "            jec_tag = 'Summer19UL18_V5_MC'\n",
    "            jer_tag = 'Summer19UL18_JRV2_MC'\n",
    "        else:\n",
    "            print('error')\n",
    "        \n",
    "        self.btag_wp = 'M'\n",
    "        self.zmass = 91.1873 # GeV \n",
    "        self._btag = BTVCorrector(era=era, wp=self.btag_wp)\n",
    "        self._jmeu = JMEUncertainty(jec_tag, jer_tag)\n",
    "        self._purw = pileup_weights(era=self._era)\n",
    "        \n",
    "        \n",
    "        _data_path = 'qawa/data'\n",
    "        self._json = {\n",
    "            '2018': LumiMask(f'{_data_path}/json/{era}/Cert_314472-325175_13TeV_Legacy2018_Collisions18_JSON.txt'),\n",
    "            '2017': LumiMask(f'{_data_path}/json/{era}/Cert_294927-306462_13TeV_UL2017_Collisions17_GoldenJSON.txt'),\n",
    "            '2016': LumiMask(f'{_data_path}/json/{era}/Cert_294927-306462_13TeV_UL2017_Collisions17_GoldenJSON.txt'),\n",
    "\n",
    "        }\n",
    "        with open(f'{_data_path}/{era}-trigger-rules.yaml') as ftrig:\n",
    "            self._triggers = yaml.load(ftrig, Loader=yaml.FullLoader)\n",
    "            \n",
    "        with open(f'{_data_path}/eft-names.dat') as eft_file:\n",
    "            self._eftnames = [n.strip() for n in eft_file.readlines()]\n",
    "            \n",
    "        self.build_histos = lambda: {\n",
    "            'dilep_mt': hist.Hist(\n",
    "                hist.axis.StrCategory([], name=\"channel\"   , growth=True),\n",
    "                hist.axis.StrCategory([], name=\"systematic\", growth=True), \n",
    "                hist.axis.Regular(50, 0, 1000, name=\"dilep_mt\", label=\"$M_{T}$ (GeV)\"),\n",
    "                hist.storage.Weight()\n",
    "            ), \n",
    "            'met': hist.Hist(\n",
    "                hist.axis.StrCategory([], name=\"channel\"   , growth=True),\n",
    "                hist.axis.StrCategory([], name=\"systematic\", growth=True), \n",
    "                hist.axis.Regular(50, 0, 1000, name=\"met\", label=\"$p_{T}^{miss}$ (GeV)\"),\n",
    "                hist.storage.Weight()\n",
    "            ),\n",
    "            'njets': hist.Hist(\n",
    "                hist.axis.StrCategory([], name=\"channel\"   , growth=True),\n",
    "                hist.axis.StrCategory([], name=\"systematic\", growth=True), \n",
    "                hist.axis.Regular(5, 0, 5, name=\"njets\", label=\"$N_{jet}$ ($p_{T}>30$ GeV)\"),\n",
    "                hist.storage.Weight()\n",
    "            ), \n",
    "            'bjets': hist.Hist(\n",
    "                hist.axis.StrCategory([], name=\"channel\"   , growth=True),\n",
    "                hist.axis.StrCategory([], name=\"systematic\", growth=True), \n",
    "                hist.axis.Regular(5, 0, 5, name=\"bjets\", label=\"$N_{b-jet}$ ($p_{T}>30$ GeV)\"),\n",
    "                hist.storage.Weight()\n",
    "            ),\n",
    "            'dphi_met_ll': hist.Hist(\n",
    "                hist.axis.StrCategory([], name=\"channel\"   , growth=True),\n",
    "                hist.axis.StrCategory([], name=\"systematic\", growth=True), \n",
    "                hist.axis.Regular(50, 0, 1, name=\"dphi_met_ll\", label=\"$\\Delta \\phi(\\ell\\ell,\\vec p_{T}^{miss})/\\pi$\"),\n",
    "                hist.storage.Weight()\n",
    "            ),\n",
    "        }\n",
    "        \n",
    "    def process_shift(self, event, shift_name:str=''):\n",
    "        dataset = event.metadata['dataset']\n",
    "        is_data = event.metadata.get(\"is_data\")\n",
    "        selection = PackedSelection()\n",
    "        weights = Weights(len(event), storeIndividual=True)\n",
    "        \n",
    "        histos = self.build_histos()\n",
    "        \n",
    "        if is_data:\n",
    "            selection.add('lumimask', self._json[self._era](event.run, event.luminosityBlock))\n",
    "            selection.add('triggers', trigger_rules(event, self._triggers, self._era))\n",
    "        else:\n",
    "            selection.add('lumimask', np.ones(len(event), dtype='bool'))\n",
    "            selection.add('triggers', np.ones(len(event), dtype='bool'))\n",
    "        \n",
    "        # MET filters\n",
    "        selection.add(\n",
    "            'metfilter',\n",
    "            event.Flag.METFilters &\n",
    "            event.Flag.HBHENoiseFilter &\n",
    "            event.Flag.HBHENoiseIsoFilter & \n",
    "            event.Flag.EcalDeadCellTriggerPrimitiveFilter & \n",
    "            event.Flag.goodVertices & \n",
    "            event.Flag.eeBadScFilter & \n",
    "            event.Flag.globalTightHalo2016Filter &\n",
    "            event.Flag.BadChargedCandidateFilter & \n",
    "            event.Flag.BadPFMuonFilter\n",
    "        )\n",
    "        \n",
    "        tight_lep, loose_lep = build_leptons(\n",
    "            event.Muon,\n",
    "            event.Electron\n",
    "        )\n",
    "        \n",
    "        had_taus = build_htaus(event.Tau, tight_lep)\n",
    "        \n",
    "        ntight_lep = ak.num(tight_lep)\n",
    "        nloose_lep = ak.num(loose_lep)\n",
    "        nhtaus_lep = ak.num(had_taus)\n",
    "        \n",
    "        jets = event.Jet\n",
    "        overlap_leptons = ak.any(\n",
    "            jets.metric_table(tight_lep) <= 0.4,\n",
    "            axis=2\n",
    "        )\n",
    "        \n",
    "        jet_mask = (\n",
    "            ~overlap_leptons & \n",
    "            (jets.pt>30.0) & \n",
    "            (np.abs(jets.eta) < 4.7) & \n",
    "            (jets.jetId >= 6) # tight JetID 7(2016) and 6(2017/8)\n",
    "        )\n",
    "        \n",
    "        jet_btag = (event.Jet.btagDeepFlavB > btag_id(self.btag_wp, self._era))\n",
    "        \n",
    "        good_jets = jets[~jet_btag & jet_mask]\n",
    "        good_bjet = jets[jet_btag & jet_mask & (np.abs(jets.eta)<2.4)]\n",
    "        \n",
    "        ngood_jets  = ak.num(jets[~jet_btag & jet_mask])\n",
    "        ngood_bjets = ak.num(jets[jet_btag & jet_mask & (np.abs(jets.eta)<2.4)])\n",
    "        \n",
    "        selection.add('0bjets', ngood_bjets ==0 )\n",
    "        selection.add('1bjets', ngood_bjets >=0 ) # at least\n",
    "        selection.add('0njets', ngood_jets  ==0 )\n",
    "        selection.add('1njets', ngood_jets  ==1 )\n",
    "        selection.add('2njets', ngood_jets  >=2 ) # at least\n",
    "        selection.add('0htaus', nhtaus_lep  ==0 ) # veto hadronic taus\n",
    "        \n",
    "        # lepton quantities\n",
    "        def z_lepton_pair(leptons):\n",
    "            pair = ak.combinations(leptons, 2, axis=1, fields=['l1', 'l2'])\n",
    "            mass = (pair.l1 + pair.l2).mass\n",
    "            cand = ak.local_index(mass, axis=1) == ak.argmin(np.abs(mass - self.zmass), axis=1)\n",
    "\n",
    "            extra_lepton = leptons[(\n",
    "                ~ak.any(leptons.metric_table(pair[cand].l1) <= 0.01, axis=2) & \n",
    "                ~ak.any(leptons.metric_table(pair[cand].l2) <= 0.01, axis=2) )\n",
    "            ]\n",
    "            return pair[cand], extra_lepton, cand\n",
    "        \n",
    "        dilep, extra_lep, z_cand_mask = z_lepton_pair(tight_lep)\n",
    "        \n",
    "        lead_lep = ak.firsts(ak.where(dilep.l1.pt >  dilep.l2.pt, dilep.l1, dilep.l2),axis=1)\n",
    "        subl_lep = ak.firsts(ak.where(dilep.l1.pt <= dilep.l2.pt, dilep.l1, dilep.l2),axis=1)\n",
    "        \n",
    "        dilep_p4 = (lead_lep + subl_lep)\n",
    "        dilep_m  = dilep_p4.mass\n",
    "        dilep_pt = dilep_p4.pt\n",
    "        delta_phi_ll_met = dilep_p4.delta_phi(event.MET)\n",
    "        \n",
    "        # high level observables\n",
    "        p4_met = ak.zip(\n",
    "            {\n",
    "                \"pt\": event.MET.pt,\n",
    "                \"eta\": ak.zeros_like(event.MET.pt),\n",
    "                \"phi\": event.MET.phi,\n",
    "                \"mass\": ak.zeros_like(event.MET.pt),\n",
    "                \"charge\": ak.zeros_like(event.MET.pt),\n",
    "            },\n",
    "            with_name=\"PtEtaPhiMCandidate\",\n",
    "            behavior=candidate.behavior,\n",
    "        )\n",
    "        emu_met = ak.firsts(extra_lep, axis=1) + p4_met\n",
    "        \n",
    "        dilep_et = np.sqrt(dilep_pt**2 + dilep_m**2)\n",
    "        dilep_mt = ak.where(\n",
    "            ntight_lep==3,\n",
    "            np.sqrt((dilep_et + emu_met.pt)**2 - (dilep_p4.pvec + emu_met.pvec).p2),\n",
    "            np.sqrt((dilep_et +  p4_met.pt)**2 - (dilep_p4.pvec +  p4_met.pvec).p2)\n",
    "        )\n",
    "        \n",
    "        dphi_ll = lead_lep.delta_phi(subl_lep)\n",
    "        deta_ll = np.abs(lead_lep.eta - subl_lep.eta)\n",
    "        dR_ll   = dilep.l1.delta_r(dilep.l2)\n",
    "        dphi_met_ll    = ak.where(ntight_lep==3, dilep_p4.delta_phi(emu_met), dilep_p4.delta_phi(p4_met))\n",
    "        vector_balance = ak.where(ntight_lep==3, (emu_met - dilep_p4).pt/dilep_p4.pt, (p4_met - dilep_p4).pt/dilep_p4.pt)\n",
    "        scalar_balance = ak.where(ntight_lep==3, emu_met.pt/dilep_p4.pt, p4_met.pt/dilep_p4.pt)\n",
    "        \n",
    "        event['met'     ] = p4_met.pt\n",
    "        event['dilep_mt'] = dilep_mt\n",
    "        event['njets'   ] = ngood_jets\n",
    "        event['bjets'   ] = ngood_bjets\n",
    "        event['dphi_met_ll'] = dphi_met_ll/np.pi\n",
    "        \n",
    "        # build selections\n",
    "        selection.add('2lep', (ntight_lep==2) & (nloose_lep==0) & (ak.firsts(tight_lep).pt>25))\n",
    "        selection.add('3lep', (ntight_lep==3) & (nloose_lep==0) & (ak.firsts(tight_lep).pt>25))\n",
    "        selection.add('4lep', ((ntight_lep + nloose_lep) == 4 ) & (ak.firsts(tight_lep).pt>25))\n",
    "        selection.add('OSSF', ak.fill_none((lead_lep.pdgId + subl_lep.pdgId)==0, False))\n",
    "        selection.add('OF'  , ak.fill_none(np.abs(lead_lep.pdgId) != np.abs(subl_lep.pdgId), False))\n",
    "        \n",
    "        \n",
    "        # kinematic selections\n",
    "        selection.add('dilep_pt'   , ak.fill_none(dilep_pt > 55, False))\n",
    "        selection.add('dilep_m'    , ak.fill_none(np.abs(dilep_m - self.zmass) < 15, False))\n",
    "        selection.add('met'        , ak.fill_none(p4_met.pt > 100, False))\n",
    "        selection.add('low_met'    , ak.fill_none((p4_met.pt> 50) & (p4_met.pt<100), False))\n",
    "        selection.add('dphi_met_ll', ak.fill_none(np.abs(dphi_met_ll) > 0.5, False) )\n",
    "        selection.add('emu_met'    , ak.fill_none(emu_met.pt > 70, False))\n",
    "        selection.add('balance'    , ak.fill_none((scalar_balance>0.4) & (scalar_balance<1.8), False))\n",
    "        \n",
    "        # 2jet and vbs related variables\n",
    "        lead_jet = ak.firsts(jets)\n",
    "        subl_jet = ak.firsts(jets[lead_jet.delta_r(jets)>0.01])\n",
    "        \n",
    "        dijet_mass = (lead_jet + subl_jet).mass\n",
    "        dijet_dphi = lead_jet.delta_phi(subl_jet)\n",
    "        dijet_deta = np.abs(lead_jet.eta - subl_jet.eta)\n",
    "        dijet_zep1 = np.abs(2*lead_lep.eta - (lead_jet.eta + subl_jet.eta))/dijet_deta\n",
    "        dijet_zep2 = np.abs(2*subl_lep.eta - (lead_jet.eta + subl_jet.eta))/dijet_deta\n",
    "\n",
    "        selection.add('dijet_mass_low' , ak.fill_none(dijet_mass > 300, False))\n",
    "        selection.add('dijet_mass'     , ak.fill_none(dijet_mass > 400, False))\n",
    "        selection.add('dijet_mass_bin0', ak.fill_none((dijet_mass >= 400) & (dijet_mass < 800 ), False))\n",
    "        selection.add('dijet_mass_bin1', ak.fill_none((dijet_mass >= 800) & (dijet_mass < 1200), False))\n",
    "        selection.add('dijet_mass_bin2', ak.fill_none((dijet_mass >= 1200), False))\n",
    "        selection.add('dijet_deta'     , ak.fill_none(dijet_deta > 2.5, False))\n",
    "        \n",
    "        # Now adding weights\n",
    "        if not is_data:\n",
    "            weights.add('genweight', event.genWeight)\n",
    "            self._btag.append_btag_sf(jets, weights)\n",
    "            self._purw.append_pileup_weight(weights, event.Pileup.nPU)\n",
    "            _ones = np.ones(len(weights.weight()))\n",
    "            if \"PSWeight\" in event.fields:\n",
    "                theory_ps_weight(weights, event.PSWeight)\n",
    "            else:\n",
    "                theory_ps_weight(weights, None)\n",
    "            if \"LHEPdfWeight\" in event.fields:\n",
    "                theory_pdf_weight(weights, event.LHEPdfWeight)\n",
    "            else:\n",
    "                theory_pdf_weight(weights, None)\n",
    "                \n",
    "            if 'LHEScaleWeight' in event.fields:\n",
    "                weights.add('QCDScale0w'  , _ones, event.LHEScaleWeight[:, 1], event.LHEScaleWeight[:, 7])\n",
    "                weights.add('QCDScale1w'  , _ones, event.LHEScaleWeight[:, 3], event.LHEScaleWeight[:, 5])\n",
    "                weights.add('QCDScale2w'  , _ones, event.LHEScaleWeight[:, 0], event.LHEScaleWeight[:, 8])\n",
    "                \n",
    "            if 'LHEReweightingWeight' in event.fields and 'aQGC' in dataset:\n",
    "                for i in range(1057):\n",
    "                    weights.add(f\"eft_{self._eftnames[i]}\", event.LHEReweightingWeight[:, i])\n",
    "        \n",
    "        # selections\n",
    "        common_sel = ['triggers', 'lumimask', 'metfilter']\n",
    "        dilep_sel = ['2lep', 'OSSF', 'dilep_m', '0bjets', 'dphi_met_ll', '0bjets', '0htaus']\n",
    "        channels = {\n",
    "            # signal regions\n",
    "            'catSR' : common_sel + ['2lep', 'OSSF', 'dilep_m', 'met', 'dphi_met_ll', '0bjets', '0htaus'],\n",
    "            'catSR0': common_sel + ['2lep', 'OSSF', 'dilep_m', 'met', 'dphi_met_ll', '0bjets', '0htaus', '0njets'],\n",
    "            'catSR1': common_sel + ['2lep', 'OSSF', 'dilep_m', 'met', 'dphi_met_ll', '0bjets', '0htaus', '1njets'],\n",
    "            'catSR2': common_sel + ['2lep', 'OSSF', 'dilep_m', 'met', 'dphi_met_ll', '0bjets', '0htaus', '2njets'],\n",
    "            \n",
    "            # control regions\n",
    "            'catDY': common_sel + ['2lep', 'OSSF', 'dilep_m', 'low_met','dphi_met_ll', '0bjets'],\n",
    "            'cat3L': common_sel + ['3lep', 'OSSF', 'dilep_m', 'emu_met','dphi_met_ll', '0bjets'],\n",
    "            'catEM': common_sel + ['2lep', 'OSSF', 'dilep_m', 'low_met','dphi_met_ll', '0bjets'],\n",
    "            'catTT': common_sel + ['2lep', 'OSSF', 'dilep_m', 'low_met','dphi_met_ll', '0bjets'],\n",
    "            'catNR': common_sel + ['2lep', 'OSSF', 'dilep_m', 'low_met','dphi_met_ll', '0bjets'],\n",
    "            \n",
    "            # additional selections\n",
    "            'catSR_VBS': common_sel + ['2lep', 'OSSF', 'dilep_m', 'met'    ,'dphi_met_ll', '0bjets', 'dijet_deta', 'dijet_mass'],\n",
    "            'catDY_VBS': common_sel + ['2lep', 'OSSF', 'dilep_m', 'low_met','dphi_met_ll', '0bjets', 'dijet_deta', 'dijet_mass'],\n",
    "            'catEM_VBS': common_sel + ['2lep', 'OSSF', 'dilep_m', 'low_met','dphi_met_ll', '0bjets', 'dijet_deta', 'dijet_mass'],\n",
    "            'cat3L_VBS': common_sel + ['2lep', 'OSSF', 'dilep_m', 'low_met','dphi_met_ll', '0bjets', 'dijet_deta', 'dijet_mass'],\n",
    "            'catTT_VBS': common_sel + ['2lep', 'OSSF', 'dilep_m', 'low_met','dphi_met_ll', '0bjets', 'dijet_deta', 'dijet_mass'],\n",
    "            'catNR_VBS': common_sel + ['2lep', 'OSSF', 'dilep_m', 'low_met','dphi_met_ll', '0bjets', 'dijet_deta', 'dijet_mass'],\n",
    "            \n",
    "        }\n",
    "        \n",
    "        if shift_name is None:\n",
    "            systematics = [None] + list(weights.variations)\n",
    "        else:\n",
    "            systematics = [shift_name]\n",
    "            \n",
    "        def _format_variable(variable, cut):\n",
    "            if cut is None:\n",
    "                return ak.to_numpy(ak.fill_none(variable, np.nan))\n",
    "            else:\n",
    "                return ak.to_numpy(ak.fill_none(variable[cut], np.nan))\n",
    "        \n",
    "        def _histogram_filler(ch, syst, var, _weight=None):\n",
    "            sel_ = channels[ch]\n",
    "            sel_ = [s for s in sel_ if var not in s]\n",
    "            cut =  selection.all(*sel_)\n",
    "            systname = 'nominal' if syst is None else syst\n",
    "            \n",
    "            if _weight is None: \n",
    "                if syst in weights.variations:\n",
    "                    weight = weights.weight(modifier=syst)[cut]\n",
    "                else:\n",
    "                    weight = weights.weight()[cut]\n",
    "            else:\n",
    "                weight = weights.weight()[cut] * _weight[cut]\n",
    "            \n",
    "            histos[var].fill(\n",
    "                **{\n",
    "                    \"channel\": ch, \n",
    "                    \"systematic\": systname, \n",
    "                    var: _format_variable(event[var], cut), \n",
    "                    \"weight\": weight,\n",
    "                }\n",
    "            )\n",
    "                \n",
    "            \n",
    "        for ch in channels:\n",
    "            cut = selection.all(*channels[ch])\n",
    "            for sys in systematics:\n",
    "                _histogram_filler(ch, sys, 'met')\n",
    "                _histogram_filler(ch, sys, 'dilep_mt')\n",
    "                _histogram_filler(ch, sys, 'njets')\n",
    "                _histogram_filler(ch, sys, 'bjets')\n",
    "                _histogram_filler(ch, sys, 'dphi_met_ll')\n",
    "                \n",
    "        return {dataset: histos}\n",
    "        \n",
    "    def process(self, event: processor.LazyDataFrame):\n",
    "        dataset_name = event.metadata['dataset']\n",
    "        is_data = event.metadata.get(\"is_data\")\n",
    "        \n",
    "        if is_data:\n",
    "            # HEM15/16 issue\n",
    "            if self._era == \"2018\":\n",
    "                _runid = (event.run >= 319077)\n",
    "                jets = event.Jet\n",
    "                j_mask = ak.where((jets.phi > -1.57) & (jets.phi < -0.87) &\n",
    "                                  (jets.eta > -2.50) & (jets.eta <  1.30) & \n",
    "                                  _runid, 0.8, 1)\n",
    "            \n",
    "                jets['pt']   = j_mask * jets.pt\n",
    "                jets['mass'] = j_mask * jets.mass\n",
    "                event = ak.with_field(event, jets, 'Jet')\n",
    "                \n",
    "            return self.process_shift(event, None)\n",
    "        \n",
    "        # x-y met shit corrections\n",
    "        # for the moment I am replacing the met with the corrected met \n",
    "        # before doing the JES/JER corrections\n",
    "        \n",
    "        run = event.run \n",
    "        npv = event.PV.npvs\n",
    "        met = event.MET\n",
    "        \n",
    "        met = met_phi_xy_correction(\n",
    "            event.MET, run, npv, \n",
    "            is_mc=not is_data, \n",
    "            era=self._era\n",
    "        )\n",
    "        event = ak.with_field(event, met, 'MET')\n",
    "\n",
    "        \n",
    "        # JES/JER corrections\n",
    "        jets = self._jmeu.corrected_jets(event.Jet, event.fixedGridRhoFastjetAll, event.caches[0])\n",
    "        met  = self._jmeu.corrected_met(event.MET, jets, event.fixedGridRhoFastjetAll, event.caches[0])\n",
    "        \n",
    "        \n",
    "        \n",
    "        \n",
    "        # define all the shifts\n",
    "        shifts = [\n",
    "            ({\"Jet\": jets               , \"MET\": met                }, None     ),\n",
    "            ({\"Jet\": jets.JES_Total.up  , \"MET\": met.JES_Total.up   }, \"JESUp\"  ),\n",
    "            ({\"Jet\": jets.JES_Total.down, \"MET\": met.JES_Total.down }, \"JESDown\"),\n",
    "            ({\"Jet\": jets.JER.up        , \"MET\": met.JER.up         }, \"JERUp\"  ),\n",
    "            ({\"Jet\": jets.JER.down      , \"MET\": met.JER.down       }, \"JERDown\"),\n",
    "            ({\"Jet\": jets, \"MET\": met.MET_UnclusteredEnergy.up      }, \"UESUp\"  ),\n",
    "            ({\"Jet\": jets, \"MET\": met.MET_UnclusteredEnergy.down    }, \"UESDown\"),\n",
    "        ]\n",
    "            \n",
    "        \n",
    "        \n",
    "        shifts = [\n",
    "            self.process_shift(\n",
    "                update_collection(event, collections), \n",
    "                name\n",
    "            ) for collections, name in shifts\n",
    "        ]\n",
    "        return processor.accumulate(shifts)\n",
    "    \n",
    "    def postprocess(self, accumulator):\n",
    "        return accumulator"
   ]
  },
  {
   "cell_type": "code",
   "execution_count": 4,
   "id": "6711bed3-4809-43d6-a0d0-9dbde2ec0cdb",
   "metadata": {},
   "outputs": [
    {
     "data": {
      "application/vnd.jupyter.widget-view+json": {
       "model_id": "115a87e51e2144249460feb2453df3cf",
       "version_major": 2,
       "version_minor": 0
      },
      "text/plain": [
       "Output()"
      ]
     },
     "metadata": {},
     "output_type": "display_data"
    },
    {
     "data": {
      "text/html": [
       "<pre style=\"white-space:pre;overflow-x:auto;line-height:normal;font-family:Menlo,'DejaVu Sans Mono',consolas,'Courier New',monospace\"></pre>\n"
      ],
      "text/plain": []
     },
     "metadata": {},
     "output_type": "display_data"
    },
    {
     "data": {
      "text/html": [
       "<pre style=\"white-space:pre;overflow-x:auto;line-height:normal;font-family:Menlo,'DejaVu Sans Mono',consolas,'Courier New',monospace\">\n",
       "</pre>\n"
      ],
      "text/plain": [
       "\n"
      ]
     },
     "metadata": {},
     "output_type": "display_data"
    },
    {
     "data": {
      "application/vnd.jupyter.widget-view+json": {
       "model_id": "b8d243fac0da4f8593416fa4c34b4bca",
       "version_major": 2,
       "version_minor": 0
      },
      "text/plain": [
       "Output()"
      ]
     },
     "metadata": {},
     "output_type": "display_data"
    },
    {
     "name": "stderr",
     "output_type": "stream",
     "text": [
      "/opt/conda/lib/python3.8/site-packages/awkward/_connect/_numpy.py:195: RuntimeWarning: invalid value encountered in sqrt\n",
      "  result = getattr(ufunc, method)(\n",
      "/opt/conda/lib/python3.8/site-packages/awkward/_connect/_numpy.py:195: RuntimeWarning: invalid value encountered in sqrt\n",
      "  result = getattr(ufunc, method)(\n",
      "/opt/conda/lib/python3.8/site-packages/awkward/_connect/_numpy.py:195: RuntimeWarning: invalid value encountered in sqrt\n",
      "  result = getattr(ufunc, method)(\n",
      "/opt/conda/lib/python3.8/site-packages/awkward/_connect/_numpy.py:195: RuntimeWarning: invalid value encountered in sqrt\n",
      "  result = getattr(ufunc, method)(\n",
      "/opt/conda/lib/python3.8/site-packages/awkward/_connect/_numpy.py:195: RuntimeWarning: invalid value encountered in sqrt\n",
      "  result = getattr(ufunc, method)(\n",
      "/opt/conda/lib/python3.8/site-packages/awkward/_connect/_numpy.py:195: RuntimeWarning: divide by zero encountered in true_divide\n",
      "  result = getattr(ufunc, method)(\n",
      "/opt/conda/lib/python3.8/site-packages/awkward/_connect/_numpy.py:195: RuntimeWarning: divide by zero encountered in true_divide\n",
      "  result = getattr(ufunc, method)(\n",
      "/opt/conda/lib/python3.8/site-packages/awkward/_connect/_numpy.py:195: RuntimeWarning: divide by zero encountered in true_divide\n",
      "  result = getattr(ufunc, method)(\n",
      "/opt/conda/lib/python3.8/site-packages/awkward/_connect/_numpy.py:195: RuntimeWarning: invalid value encountered in true_divide\n",
      "  result = getattr(ufunc, method)(\n",
      "/opt/conda/lib/python3.8/site-packages/awkward/_connect/_numpy.py:195: RuntimeWarning: divide by zero encountered in true_divide\n",
      "  result = getattr(ufunc, method)(\n",
      "/opt/conda/lib/python3.8/site-packages/awkward/_connect/_numpy.py:195: RuntimeWarning: divide by zero encountered in true_divide\n",
      "  result = getattr(ufunc, method)(\n"
     ]
    },
    {
     "data": {
      "text/html": [
       "<pre style=\"white-space:pre;overflow-x:auto;line-height:normal;font-family:Menlo,'DejaVu Sans Mono',consolas,'Courier New',monospace\"></pre>\n"
      ],
      "text/plain": []
     },
     "metadata": {},
     "output_type": "display_data"
    },
    {
     "data": {
      "text/html": [
       "<pre style=\"white-space:pre;overflow-x:auto;line-height:normal;font-family:Menlo,'DejaVu Sans Mono',consolas,'Courier New',monospace\">\n",
       "</pre>\n"
      ],
      "text/plain": [
       "\n"
      ]
     },
     "metadata": {},
     "output_type": "display_data"
    },
    {
     "name": "stderr",
     "output_type": "stream",
     "text": [
      "Traceback (most recent call last):\n",
      "  File \"/opt/conda/lib/python3.8/site-packages/coffea/processor/executor.py\", line 782, in _processwith\n",
      "    merged = _watcher(FH, self, reducer, pool)\n",
      "  File \"/opt/conda/lib/python3.8/site-packages/coffea/processor/executor.py\", line 398, in _watcher\n",
      "    batch = FH.fetch(len(FH.completed))\n",
      "  File \"/opt/conda/lib/python3.8/site-packages/coffea/processor/executor.py\", line 282, in fetch\n",
      "    raise bad_futures[0].exception()\n",
      "concurrent.futures.process.BrokenProcessPool: A process in the process pool was terminated abruptly while the future was running or pending.\n"
     ]
    },
    {
     "ename": "BrokenProcessPool",
     "evalue": "A process in the process pool was terminated abruptly while the future was running or pending.",
     "output_type": "error",
     "traceback": [
      "\u001b[0;31m---------------------------------------------------------------------------\u001b[0m",
      "\u001b[0;31mBrokenProcessPool\u001b[0m                         Traceback (most recent call last)",
      "Input \u001b[0;32mIn [4]\u001b[0m, in \u001b[0;36m<cell line: 48>\u001b[0;34m()\u001b[0m\n\u001b[1;32m      1\u001b[0m samples \u001b[38;5;241m=\u001b[39m {\n\u001b[1;32m      2\u001b[0m     \u001b[38;5;124m\"\u001b[39m\u001b[38;5;124mEWK_ZZ2l2nu\u001b[39m\u001b[38;5;124m\"\u001b[39m:{\n\u001b[1;32m      3\u001b[0m         \u001b[38;5;124m\"\u001b[39m\u001b[38;5;124mfiles\u001b[39m\u001b[38;5;124m\"\u001b[39m: [\n\u001b[0;32m   (...)\u001b[0m\n\u001b[1;32m     45\u001b[0m     \u001b[38;5;66;03m# }\u001b[39;00m\n\u001b[1;32m     46\u001b[0m }\n\u001b[0;32m---> 48\u001b[0m out_btag \u001b[38;5;241m=\u001b[39m \u001b[43mprocessor\u001b[49m\u001b[38;5;241;43m.\u001b[39;49m\u001b[43mrun_uproot_job\u001b[49m\u001b[43m(\u001b[49m\n\u001b[1;32m     49\u001b[0m \u001b[43m    \u001b[49m\u001b[43msamples\u001b[49m\u001b[43m,\u001b[49m\n\u001b[1;32m     50\u001b[0m \u001b[43m    \u001b[49m\u001b[43mprocessor_instance\u001b[49m\u001b[38;5;241;43m=\u001b[39;49m\u001b[43mzzinc_processor\u001b[49m\u001b[43m(\u001b[49m\u001b[43m)\u001b[49m\u001b[43m,\u001b[49m\n\u001b[1;32m     51\u001b[0m \u001b[43m    \u001b[49m\u001b[43mtreename\u001b[49m\u001b[38;5;241;43m=\u001b[39;49m\u001b[38;5;124;43m'\u001b[39;49m\u001b[38;5;124;43mEvents\u001b[39;49m\u001b[38;5;124;43m'\u001b[39;49m\u001b[43m,\u001b[49m\n\u001b[1;32m     52\u001b[0m \u001b[43m    \u001b[49m\u001b[43mexecutor\u001b[49m\u001b[38;5;241;43m=\u001b[39;49m\u001b[43mprocessor\u001b[49m\u001b[38;5;241;43m.\u001b[39;49m\u001b[43mfutures_executor\u001b[49m\u001b[43m,\u001b[49m\n\u001b[1;32m     53\u001b[0m \u001b[43m    \u001b[49m\u001b[43mexecutor_args\u001b[49m\u001b[38;5;241;43m=\u001b[39;49m\u001b[43m{\u001b[49m\n\u001b[1;32m     54\u001b[0m \u001b[43m        \u001b[49m\u001b[38;5;124;43m\"\u001b[39;49m\u001b[38;5;124;43mschema\u001b[39;49m\u001b[38;5;124;43m\"\u001b[39;49m\u001b[43m:\u001b[49m\u001b[43m \u001b[49m\u001b[43mnanoevents\u001b[49m\u001b[38;5;241;43m.\u001b[39;49m\u001b[43mNanoAODSchema\u001b[49m\u001b[43m,\u001b[49m\n\u001b[1;32m     55\u001b[0m \u001b[43m        \u001b[49m\u001b[38;5;124;43m\"\u001b[39;49m\u001b[38;5;124;43mworkers\u001b[39;49m\u001b[38;5;124;43m\"\u001b[39;49m\u001b[43m:\u001b[49m\u001b[43m \u001b[49m\u001b[38;5;241;43m5\u001b[39;49m\n\u001b[1;32m     56\u001b[0m \u001b[43m    \u001b[49m\u001b[43m}\u001b[49m\u001b[43m,\u001b[49m\n\u001b[1;32m     57\u001b[0m \u001b[43m    \u001b[49m\u001b[38;5;66;43;03m# chunksize=100,\u001b[39;49;00m\n\u001b[1;32m     58\u001b[0m \u001b[43m)\u001b[49m\n\u001b[1;32m     59\u001b[0m out_btag\n",
      "File \u001b[0;32m/opt/conda/lib/python3.8/site-packages/coffea/processor/__init__.py:104\u001b[0m, in \u001b[0;36m_run_x_job\u001b[0;34m(fileset, treename, processor_instance, executor, executor_args, pre_executor, pre_args, chunksize, maxchunks, metadata_cache, dynamic_chunksize, format)\u001b[0m\n\u001b[1;32m     93\u001b[0m \u001b[38;5;66;03m# make Runner instance, assume other args are for _work_function & co.\u001b[39;00m\n\u001b[1;32m     94\u001b[0m run \u001b[38;5;241m=\u001b[39m Runner(\n\u001b[1;32m     95\u001b[0m     executor\u001b[38;5;241m=\u001b[39mexecutor,\n\u001b[1;32m     96\u001b[0m     chunksize\u001b[38;5;241m=\u001b[39mchunksize,\n\u001b[0;32m   (...)\u001b[0m\n\u001b[1;32m    101\u001b[0m     \u001b[38;5;241m*\u001b[39m\u001b[38;5;241m*\u001b[39mexecutor_args,\n\u001b[1;32m    102\u001b[0m )\n\u001b[0;32m--> 104\u001b[0m \u001b[38;5;28;01mreturn\u001b[39;00m \u001b[43mrun\u001b[49m\u001b[43m(\u001b[49m\n\u001b[1;32m    105\u001b[0m \u001b[43m    \u001b[49m\u001b[43mfileset\u001b[49m\u001b[43m,\u001b[49m\n\u001b[1;32m    106\u001b[0m \u001b[43m    \u001b[49m\u001b[43mtreename\u001b[49m\u001b[43m,\u001b[49m\n\u001b[1;32m    107\u001b[0m \u001b[43m    \u001b[49m\u001b[43mprocessor_instance\u001b[49m\u001b[38;5;241;43m=\u001b[39;49m\u001b[43mprocessor_instance\u001b[49m\u001b[43m,\u001b[49m\n\u001b[1;32m    108\u001b[0m \u001b[43m\u001b[49m\u001b[43m)\u001b[49m\n",
      "File \u001b[0;32m/opt/conda/lib/python3.8/site-packages/coffea/processor/executor.py:1675\u001b[0m, in \u001b[0;36mRunner.__call__\u001b[0;34m(self, fileset, treename, processor_instance)\u001b[0m\n\u001b[1;32m   1654\u001b[0m \u001b[38;5;28;01mdef\u001b[39;00m \u001b[38;5;21m__call__\u001b[39m(\n\u001b[1;32m   1655\u001b[0m     \u001b[38;5;28mself\u001b[39m,\n\u001b[1;32m   1656\u001b[0m     fileset: Dict,\n\u001b[1;32m   1657\u001b[0m     treename: \u001b[38;5;28mstr\u001b[39m,\n\u001b[1;32m   1658\u001b[0m     processor_instance: ProcessorABC,\n\u001b[1;32m   1659\u001b[0m ) \u001b[38;5;241m-\u001b[39m\u001b[38;5;241m>\u001b[39m Accumulatable:\n\u001b[1;32m   1660\u001b[0m     \u001b[38;5;124;03m\"\"\"Run the processor_instance on a given fileset\u001b[39;00m\n\u001b[1;32m   1661\u001b[0m \n\u001b[1;32m   1662\u001b[0m \u001b[38;5;124;03m    Parameters\u001b[39;00m\n\u001b[0;32m   (...)\u001b[0m\n\u001b[1;32m   1672\u001b[0m \u001b[38;5;124;03m            An instance of a class deriving from ProcessorABC\u001b[39;00m\n\u001b[1;32m   1673\u001b[0m \u001b[38;5;124;03m    \"\"\"\u001b[39;00m\n\u001b[0;32m-> 1675\u001b[0m     wrapped_out \u001b[38;5;241m=\u001b[39m \u001b[38;5;28;43mself\u001b[39;49m\u001b[38;5;241;43m.\u001b[39;49m\u001b[43mrun\u001b[49m\u001b[43m(\u001b[49m\u001b[43mfileset\u001b[49m\u001b[43m,\u001b[49m\u001b[43m \u001b[49m\u001b[43mprocessor_instance\u001b[49m\u001b[43m,\u001b[49m\u001b[43m \u001b[49m\u001b[43mtreename\u001b[49m\u001b[43m)\u001b[49m\n\u001b[1;32m   1676\u001b[0m     \u001b[38;5;28;01mif\u001b[39;00m \u001b[38;5;28mself\u001b[39m\u001b[38;5;241m.\u001b[39muse_dataframes:\n\u001b[1;32m   1677\u001b[0m         \u001b[38;5;28;01mreturn\u001b[39;00m wrapped_out  \u001b[38;5;66;03m# not wrapped anymore\u001b[39;00m\n",
      "File \u001b[0;32m/opt/conda/lib/python3.8/site-packages/coffea/processor/executor.py:1825\u001b[0m, in \u001b[0;36mRunner.run\u001b[0;34m(self, fileset, processor_instance, treename)\u001b[0m\n\u001b[1;32m   1819\u001b[0m closure \u001b[38;5;241m=\u001b[39m partial(\n\u001b[1;32m   1820\u001b[0m     \u001b[38;5;28mself\u001b[39m\u001b[38;5;241m.\u001b[39mautomatic_retries, \u001b[38;5;28mself\u001b[39m\u001b[38;5;241m.\u001b[39mretries, \u001b[38;5;28mself\u001b[39m\u001b[38;5;241m.\u001b[39mskipbadfiles, closure\n\u001b[1;32m   1821\u001b[0m )\n\u001b[1;32m   1823\u001b[0m executor \u001b[38;5;241m=\u001b[39m \u001b[38;5;28mself\u001b[39m\u001b[38;5;241m.\u001b[39mexecutor\u001b[38;5;241m.\u001b[39mcopy(\u001b[38;5;241m*\u001b[39m\u001b[38;5;241m*\u001b[39mexe_args)\n\u001b[0;32m-> 1825\u001b[0m wrapped_out, e \u001b[38;5;241m=\u001b[39m \u001b[43mexecutor\u001b[49m\u001b[43m(\u001b[49m\u001b[43mchunks\u001b[49m\u001b[43m,\u001b[49m\u001b[43m \u001b[49m\u001b[43mclosure\u001b[49m\u001b[43m,\u001b[49m\u001b[43m \u001b[49m\u001b[38;5;28;43;01mNone\u001b[39;49;00m\u001b[43m)\u001b[49m\n\u001b[1;32m   1826\u001b[0m \u001b[38;5;28;01mif\u001b[39;00m wrapped_out \u001b[38;5;129;01mis\u001b[39;00m \u001b[38;5;28;01mNone\u001b[39;00m:\n\u001b[1;32m   1827\u001b[0m     \u001b[38;5;28;01mraise\u001b[39;00m \u001b[38;5;167;01mValueError\u001b[39;00m(\n\u001b[1;32m   1828\u001b[0m         \u001b[38;5;124m\"\u001b[39m\u001b[38;5;124mNo chunks returned results, verify ``processor`` instance structure.\u001b[39m\u001b[38;5;124m\"\u001b[39m\n\u001b[1;32m   1829\u001b[0m     )\n",
      "File \u001b[0;32m/opt/conda/lib/python3.8/site-packages/coffea/processor/executor.py:814\u001b[0m, in \u001b[0;36mFuturesExecutor.__call__\u001b[0;34m(self, items, function, accumulator)\u001b[0m\n\u001b[1;32m    812\u001b[0m \u001b[38;5;28;01melse\u001b[39;00m:\n\u001b[1;32m    813\u001b[0m     mergepoolinstance \u001b[38;5;241m=\u001b[39m \u001b[38;5;28;01mNone\u001b[39;00m\n\u001b[0;32m--> 814\u001b[0m \u001b[38;5;28;01mreturn\u001b[39;00m \u001b[43m_processwith\u001b[49m\u001b[43m(\u001b[49m\u001b[43mpool\u001b[49m\u001b[38;5;241;43m=\u001b[39;49m\u001b[43mpoolinstance\u001b[49m\u001b[43m,\u001b[49m\u001b[43m \u001b[49m\u001b[43mmergepool\u001b[49m\u001b[38;5;241;43m=\u001b[39;49m\u001b[43mmergepoolinstance\u001b[49m\u001b[43m)\u001b[49m\n",
      "File \u001b[0;32m/opt/conda/lib/python3.8/site-packages/coffea/processor/executor.py:798\u001b[0m, in \u001b[0;36mFuturesExecutor.__call__.<locals>._processwith\u001b[0;34m(pool, mergepool)\u001b[0m\n\u001b[1;32m    795\u001b[0m     \u001b[38;5;28;01mreturn\u001b[39;00m accumulate([_decompress(merged), accumulator]), e\n\u001b[1;32m    796\u001b[0m \u001b[38;5;28;01melse\u001b[39;00m:\n\u001b[0;32m--> 798\u001b[0m     \u001b[38;5;28;01mraise\u001b[39;00m e \u001b[38;5;28;01mfrom\u001b[39;00m \u001b[38;5;28mNone\u001b[39m\n",
      "File \u001b[0;32m/opt/conda/lib/python3.8/site-packages/coffea/processor/executor.py:782\u001b[0m, in \u001b[0;36mFuturesExecutor.__call__.<locals>._processwith\u001b[0;34m(pool, mergepool)\u001b[0m\n\u001b[1;32m    780\u001b[0m \u001b[38;5;28;01mtry\u001b[39;00m:\n\u001b[1;32m    781\u001b[0m     \u001b[38;5;28;01mif\u001b[39;00m mergepool \u001b[38;5;129;01mis\u001b[39;00m \u001b[38;5;28;01mNone\u001b[39;00m:\n\u001b[0;32m--> 782\u001b[0m         merged \u001b[38;5;241m=\u001b[39m \u001b[43m_watcher\u001b[49m\u001b[43m(\u001b[49m\u001b[43mFH\u001b[49m\u001b[43m,\u001b[49m\u001b[43m \u001b[49m\u001b[38;5;28;43mself\u001b[39;49m\u001b[43m,\u001b[49m\u001b[43m \u001b[49m\u001b[43mreducer\u001b[49m\u001b[43m,\u001b[49m\u001b[43m \u001b[49m\u001b[43mpool\u001b[49m\u001b[43m)\u001b[49m\n\u001b[1;32m    783\u001b[0m     \u001b[38;5;28;01melse\u001b[39;00m:\n\u001b[1;32m    784\u001b[0m         merged \u001b[38;5;241m=\u001b[39m _watcher(FH, \u001b[38;5;28mself\u001b[39m, reducer, mergepool)\n",
      "File \u001b[0;32m/opt/conda/lib/python3.8/site-packages/coffea/processor/executor.py:398\u001b[0m, in \u001b[0;36m_watcher\u001b[0;34m(FH, executor, merge_fcn, pool)\u001b[0m\n\u001b[1;32m    392\u001b[0m             progress\u001b[38;5;241m.\u001b[39mupdate(\n\u001b[1;32m    393\u001b[0m                 p_idm,\n\u001b[1;32m    394\u001b[0m                 total\u001b[38;5;241m=\u001b[39mprogress\u001b[38;5;241m.\u001b[39m_tasks[p_idm]\u001b[38;5;241m.\u001b[39mtotal \u001b[38;5;241m+\u001b[39m \u001b[38;5;241m1\u001b[39m,\n\u001b[1;32m    395\u001b[0m                 refresh\u001b[38;5;241m=\u001b[39m\u001b[38;5;28;01mTrue\u001b[39;00m,\n\u001b[1;32m    396\u001b[0m             )\n\u001b[1;32m    397\u001b[0m     \u001b[38;5;28;01melse\u001b[39;00m:  \u001b[38;5;66;03m# Merge within process\u001b[39;00m\n\u001b[0;32m--> 398\u001b[0m         batch \u001b[38;5;241m=\u001b[39m \u001b[43mFH\u001b[49m\u001b[38;5;241;43m.\u001b[39;49m\u001b[43mfetch\u001b[49m\u001b[43m(\u001b[49m\u001b[38;5;28;43mlen\u001b[39;49m\u001b[43m(\u001b[49m\u001b[43mFH\u001b[49m\u001b[38;5;241;43m.\u001b[39;49m\u001b[43mcompleted\u001b[49m\u001b[43m)\u001b[49m\u001b[43m)\u001b[49m\n\u001b[1;32m    399\u001b[0m         merged \u001b[38;5;241m=\u001b[39m _compress(\n\u001b[1;32m    400\u001b[0m             accumulate(\n\u001b[1;32m    401\u001b[0m                 progress\u001b[38;5;241m.\u001b[39mtrack(\n\u001b[0;32m   (...)\u001b[0m\n\u001b[1;32m    408\u001b[0m             executor\u001b[38;5;241m.\u001b[39mcompression,\n\u001b[1;32m    409\u001b[0m         )\n\u001b[1;32m    410\u001b[0m \u001b[38;5;66;03m# Add checkpointing\u001b[39;00m\n",
      "File \u001b[0;32m/opt/conda/lib/python3.8/site-packages/coffea/processor/executor.py:282\u001b[0m, in \u001b[0;36m_FuturesHolder.fetch\u001b[0;34m(self, N)\u001b[0m\n\u001b[1;32m    280\u001b[0m bad_futures \u001b[38;5;241m=\u001b[39m [future \u001b[38;5;28;01mfor\u001b[39;00m future \u001b[38;5;129;01min\u001b[39;00m _completed \u001b[38;5;28;01mif\u001b[39;00m \u001b[38;5;129;01mnot\u001b[39;00m _good_future(future)]\n\u001b[1;32m    281\u001b[0m \u001b[38;5;28mself\u001b[39m\u001b[38;5;241m.\u001b[39mcompleted\u001b[38;5;241m.\u001b[39mupdate(good_futures)\n\u001b[0;32m--> 282\u001b[0m \u001b[38;5;28;01mraise\u001b[39;00m bad_futures[\u001b[38;5;241m0\u001b[39m]\u001b[38;5;241m.\u001b[39mexception()\n",
      "\u001b[0;31mBrokenProcessPool\u001b[0m: A process in the process pool was terminated abruptly while the future was running or pending."
     ]
    }
   ],
   "source": [
    "samples = {\n",
    "    \"EWK_ZZ2l2nu\":{\n",
    "        \"files\": [\n",
    "            'root://xcache//store/mc/RunIISummer20UL18NanoAODv2/ZZJJ_ZZTo2L2Nu_EWK_dipoleRecoil_TuneCP5_13TeV-madgraph-pythia8/NANOAODSIM/106X_upgrade2018_realistic_v15_L1v1-v1/50000/ED04D8AC-1917-CD4E-A589-E69D63DBD831.root',\n",
    "            'root://xcache//store/mc/RunIISummer20UL18NanoAODv2/ZZJJ_ZZTo2L2Nu_EWK_dipoleRecoil_TuneCP5_13TeV-madgraph-pythia8/NANOAODSIM/106X_upgrade2018_realistic_v15_L1v1-v1/40000/9C88D6E1-C197-4045-A5D4-CF9C5C786DBB.root',\n",
    "        ],\n",
    "        \"metadata\":{\n",
    "            'era': '2018',\n",
    "            'is_data': False\n",
    "        },\n",
    "    },\n",
    "    \"ZZ2l2nu\":{\n",
    "        \"files\": [\n",
    "            'root://xcache//store/mc/RunIISummer20UL18NanoAODv9/ZZTo2L2Nu_TuneCP5_13TeV_powheg_pythia8/NANOAODSIM/106X_upgrade2018_realistic_v16_L1v1-v1/280000/B44EC66D-0E98-7B4C-9F5A-91EE62DC4A6F.root',\n",
    "            'root://xcache//store/mc/RunIISummer20UL18NanoAODv9/ZZTo2L2Nu_TuneCP5_13TeV_powheg_pythia8/NANOAODSIM/106X_upgrade2018_realistic_v16_L1v1-v1/280000/462B7F18-87C0-1F4E-A887-CD04EAFDB58C.root',\n",
    "        ],\n",
    "        \"metadata\":{\n",
    "            'era': '2018',\n",
    "            'is_data': False\n",
    "        },\n",
    "    }, \n",
    "    # \"DoubleMuon\": {\n",
    "    #     \"files\": [\n",
    "    #         'root://xcache//store/data/Run2018C/DoubleMuon/NANOAOD/UL2018_MiniAODv2_NanoAODv9-v1/130000/BEC3C6F4-9380-E040-9C59-9463BF55F2C1.root',\n",
    "    #         'root://xcache//store/data/Run2018C/DoubleMuon/NANOAOD/UL2018_MiniAODv2_NanoAODv9-v1/130000/DFBE6815-4CA5-CF43-A85D-DAA41A4D3C6F.root',\n",
    "    #         'root://xcache//store/data/Run2018C/DoubleMuon/NANOAOD/UL2018_MiniAODv2_NanoAODv9-v1/130000/AB8372D5-3DCC-BD4A-9CBF-B4A8770A5E7B.root',\n",
    "    #         'root://xcache//store/data/Run2018C/DoubleMuon/NANOAOD/UL2018_MiniAODv2_NanoAODv9-v1/130000/FC66BB99-B6C3-6C47-97B1-2654220B4D73.root',\n",
    "    #     ],\n",
    "    #     \"metadata\": {\n",
    "    #         'era': '2018',\n",
    "    #         'is_data': True\n",
    "    #     },\n",
    "    # }, \n",
    "    # \"SingleMuon\": {\n",
    "    #     \"files\": [\n",
    "    #         'root://xcache//store/data/Run2018B/SingleMuon/NANOAOD/UL2018_MiniAODv2_NanoAODv9-v2/250000/C9C5FC6F-C8D6-FE48-B06B-2FFAC1322796.root',\n",
    "    #         'root://xcache//store/data/Run2018B/SingleMuon/NANOAOD/UL2018_MiniAODv2_NanoAODv9-v2/250000/D5841F31-1C3B-5245-859D-5E23369A58C5.root',\n",
    "    #         'root://xcache//store/data/Run2018B/SingleMuon/NANOAOD/UL2018_MiniAODv2_NanoAODv9-v2/250000/2A561E4B-70D2-F343-A895-58E5B387E556.root',\n",
    "    #         'root://xcache//store/data/Run2018B/SingleMuon/NANOAOD/UL2018_MiniAODv2_NanoAODv9-v2/250000/62382660-C188-C14B-B3A9-3763960A7ECD.root',\n",
    "    #     ],\n",
    "    #     \"metadata\": {\n",
    "    #         'era': '2018',\n",
    "    #         'is_data': True\n",
    "    #     },\n",
    "    # }\n",
    "}\n",
    "\n",
    "out_btag = processor.run_uproot_job(\n",
    "    samples,\n",
    "    processor_instance=zzinc_processor(),\n",
    "    treename='Events',\n",
    "    executor=processor.futures_executor,\n",
    "    executor_args={\n",
    "        \"schema\": nanoevents.NanoAODSchema,\n",
    "        \"workers\": 5\n",
    "    },\n",
    "    # chunksize=100,\n",
    ")\n",
    "out_btag"
   ]
  },
  {
   "cell_type": "code",
   "execution_count": null,
   "id": "b1ff2065-85cd-44e6-b763-abfe72a92833",
   "metadata": {},
   "outputs": [],
   "source": [
    "out_btag['ZZ2l2nu']['met'][{'channel': 'catSR', 'systematic': 'nominal'}].plot(density=True)\n",
    "out_btag['EWK_ZZ2l2nu']['met'][{'channel': 'catSR', 'systematic': 'nominal'}].plot(density=True)"
   ]
  },
  {
   "cell_type": "code",
   "execution_count": null,
   "id": "3ba14fbf-fa1c-4100-a14e-cb6dbac40935",
   "metadata": {},
   "outputs": [],
   "source": [
    "out_btag['EWK_ZZ2l2nu']['dphi_met_ll'][{'channel': 'catSR', 'systematic': 'nominal'}].plot(density=True)"
   ]
  },
  {
   "cell_type": "code",
   "execution_count": 10,
   "id": "b3320eca-ae44-478b-a922-adb9b1277bb2",
   "metadata": {},
   "outputs": [
    {
     "data": {
      "text/plain": [
       "[StairsArtists(stairs=<matplotlib.patches.StepPatch object at 0x7f9d48e208b0>, errorbar=<ErrorbarContainer object of 3 artists>, legend_artist=<ErrorbarContainer object of 3 artists>)]"
      ]
     },
     "execution_count": 10,
     "metadata": {},
     "output_type": "execute_result"
    },
    {
     "data": {
      "image/png": "[encoded data removed]",
      "text/plain": [
       "<Figure size 640x480 with 1 Axes>"
      ]
     },
     "metadata": {},
     "output_type": "display_data"
    }
   ],
   "source": [
    "out_btag['EWK_ZZ2l2nu']['njets'][{'channel': 'catDY', 'systematic': 'nominal'}].plot(density=True)"
   ]
  },
  {
   "cell_type": "code",
   "execution_count": 11,
   "id": "cfa286c1-30bc-4f41-a45d-2d27f4d561c0",
   "metadata": {},
   "outputs": [
    {
     "data": {
      "text/plain": [
       "[StairsArtists(stairs=<matplotlib.patches.StepPatch object at 0x7f9d48de2280>, errorbar=<ErrorbarContainer object of 3 artists>, legend_artist=<ErrorbarContainer object of 3 artists>)]"
      ]
     },
     "execution_count": 11,
     "metadata": {},
     "output_type": "execute_result"
    },
    {
     "data": {
      "image/png": "[encoded data removed]",
      "text/plain": [
       "<Figure size 640x480 with 1 Axes>"
      ]
     },
     "metadata": {},
     "output_type": "display_data"
    }
   ],
   "source": [
    "out_btag['EWK_ZZ2l2nu']['bjets'][{'channel': 'catDY', 'systematic': 'nominal'}].plot(density=True)"
   ]
  },
  {
   "cell_type": "code",
   "execution_count": 24,
   "id": "979efbb6-ff7f-41e6-8e32-b019221030da",
   "metadata": {},
   "outputs": [
    {
     "data": {
      "image/png": "[encoded data removed]",
      "text/plain": [
       "<Figure size 432x288 with 1 Axes>"
      ]
     },
     "metadata": {
      "needs_background": "light"
     },
     "output_type": "display_data"
    }
   ],
   "source": [
    "out_btag['ZZ2l2nu']['dilep_mt'][{'channel': 'catSR', 'systematic': 'nominal'}].plot()\n",
    "for i in list(out_btag['ZZ2l2nu']['dilep_mt'].axes['systematic']):\n",
    "    out_btag['ZZ2l2nu']['dilep_mt'][{'channel': 'catSR', 'systematic': i}].plot()"
   ]
  },
  {
   "cell_type": "code",
   "execution_count": 25,
   "id": "9183c362-1d84-4452-982e-0b5391eede0d",
   "metadata": {},
   "outputs": [
    {
     "data": {
      "text/plain": [
       "[StairsArtists(stairs=<matplotlib.patches.StepPatch object at 0x7f4433bb9610>, errorbar=<ErrorbarContainer object of 3 artists>, legend_artist=<ErrorbarContainer object of 3 artists>)]"
      ]
     },
     "execution_count": 25,
     "metadata": {},
     "output_type": "execute_result"
    },
    {
     "data": {
      "image/png": "[encoded data removed]",
      "text/plain": [
       "<Figure size 432x288 with 1 Axes>"
      ]
     },
     "metadata": {
      "needs_background": "light"
     },
     "output_type": "display_data"
    }
   ],
   "source": [
    "out_btag['ZZ2l2nu']['dilep_mt'][{'channel': 'catSR', 'systematic': 'nominal'}].plot(density=True)\n",
    "out_btag['EWK_ZZ2l2nu']['dilep_mt'][{'channel': 'catSR', 'systematic': 'nominal'}].plot(density=True)"
   ]
  },
  {
   "cell_type": "code",
   "execution_count": 26,
   "id": "9e258d80-aff1-42d5-b643-8967eab49c05",
   "metadata": {},
   "outputs": [
    {
     "data": {
      "text/plain": [
       "[StairsArtists(stairs=<matplotlib.patches.StepPatch object at 0x7f4434095c10>, errorbar=<ErrorbarContainer object of 3 artists>, legend_artist=<ErrorbarContainer object of 3 artists>)]"
      ]
     },
     "execution_count": 26,
     "metadata": {},
     "output_type": "execute_result"
    },
    {
     "data": {
      "image/png": "[encoded data removed]",
      "text/plain": [
       "<Figure size 432x288 with 1 Axes>"
      ]
     },
     "metadata": {
      "needs_background": "light"
     },
     "output_type": "display_data"
    }
   ],
   "source": [
    "out_btag['ZZ2l2nu']['dilep_mt'][{'channel': 'catSR0', 'systematic': 'nominal'}].plot(density=True)\n",
    "out_btag['ZZ2l2nu']['dilep_mt'][{'channel': 'catSR1', 'systematic': 'nominal'}].plot(density=True)\n",
    "out_btag['ZZ2l2nu']['dilep_mt'][{'channel': 'catSR2', 'systematic': 'nominal'}].plot(density=True)"
   ]
  },
  {
   "cell_type": "code",
   "execution_count": 27,
   "id": "6c2b920c-5b5e-44ff-b721-88a651d75ec7",
   "metadata": {},
   "outputs": [
    {
     "data": {
      "text/plain": [
       "[StairsArtists(stairs=<matplotlib.patches.StepPatch object at 0x7f44338ecac0>, errorbar=<ErrorbarContainer object of 3 artists>, legend_artist=<ErrorbarContainer object of 3 artists>)]"
      ]
     },
     "execution_count": 27,
     "metadata": {},
     "output_type": "execute_result"
    },
    {
     "data": {
      "image/png": "[encoded data removed]",
      "text/plain": [
       "<Figure size 432x288 with 1 Axes>"
      ]
     },
     "metadata": {
      "needs_background": "light"
     },
     "output_type": "display_data"
    }
   ],
   "source": [
    "out_btag['EWK_ZZ2l2nu']['dilep_mt'][{'channel': 'catSR0', 'systematic': 'nominal'}].plot(density=True)\n",
    "out_btag['EWK_ZZ2l2nu']['dilep_mt'][{'channel': 'catSR1', 'systematic': 'nominal'}].plot(density=True)\n",
    "out_btag['EWK_ZZ2l2nu']['dilep_mt'][{'channel': 'catSR2', 'systematic': 'nominal'}].plot(density=True)"
   ]
  },
  {
   "cell_type": "code",
   "execution_count": null,
   "id": "72884788-29ef-4128-bdc5-5d02e0e55c54",
   "metadata": {},
   "outputs": [],
   "source": []
  }
 ],
 "metadata": {
  "kernelspec": {
   "display_name": "Python 3 (ipykernel)",
   "language": "python",
   "name": "python3"
  },
  "language_info": {
   "codemirror_mode": {
    "name": "ipython",
    "version": 3
   },
   "file_extension": ".py",
   "mimetype": "text/x-python",
   "name": "python",
   "nbconvert_exporter": "python",
   "pygments_lexer": "ipython3",
   "version": "3.8.13"
  }
 },
 "nbformat": 4,
 "nbformat_minor": 5
}
